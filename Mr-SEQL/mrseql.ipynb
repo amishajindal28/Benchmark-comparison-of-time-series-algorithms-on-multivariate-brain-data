{
  "nbformat": 4,
  "nbformat_minor": 0,
  "metadata": {
    "colab": {
      "name": "ML_MrSEQL.ipynb",
      "provenance": [],
      "collapsed_sections": []
    },
    "kernelspec": {
      "name": "python3",
      "display_name": "Python 3"
    }
  },
  "cells": [
    {
      "cell_type": "code",
      "metadata": {
        "id": "hW-6bBp-rELY",
        "colab": {
          "base_uri": "https://localhost:8080/"
        },
        "outputId": "493ac764-6b3f-4b03-88fd-05edb8a65603"
      },
      "source": [
        "from google.colab import drive\n",
        "drive.mount('/content/drive')"
      ],
      "execution_count": null,
      "outputs": [
        {
          "output_type": "stream",
          "text": [
            "Drive already mounted at /content/drive; to attempt to forcibly remount, call drive.mount(\"/content/drive\", force_remount=True).\n"
          ],
          "name": "stdout"
        }
      ]
    },
    {
      "cell_type": "code",
      "metadata": {
        "id": "ngSetNNArOms"
      },
      "source": [
        "import os\n",
        "os.chdir('/content/drive/My Drive/Colab Notebooks')"
      ],
      "execution_count": null,
      "outputs": []
    },
    {
      "cell_type": "code",
      "metadata": {
        "id": "hDs5eJAvrTFO",
        "colab": {
          "base_uri": "https://localhost:8080/",
          "height": 1000
        },
        "outputId": "8c0471d8-bcf6-4f5b-f361-fd78ef37e018"
      },
      "source": [
        "!pip install sktime\n",
        "!pip install sktime[all_extras]"
      ],
      "execution_count": null,
      "outputs": [
        {
          "output_type": "stream",
          "text": [
            "Collecting sktime\n",
            "\u001b[?25l  Downloading https://files.pythonhosted.org/packages/8b/85/b58f26cf0e6404d80b365a318b9e49c6810a9ee00c44f039d65272ec4314/sktime-0.4.3-cp36-cp36m-manylinux2014_x86_64.whl (5.6MB)\n",
            "\u001b[K     |████████████████████████████████| 5.6MB 3.8MB/s \n",
            "\u001b[?25hCollecting scikit-learn>=0.23.0\n",
            "\u001b[?25l  Downloading https://files.pythonhosted.org/packages/5c/a1/273def87037a7fb010512bbc5901c31cfddfca8080bc63b42b26e3cc55b3/scikit_learn-0.23.2-cp36-cp36m-manylinux1_x86_64.whl (6.8MB)\n",
            "\u001b[K     |████████████████████████████████| 6.8MB 40.4MB/s \n",
            "\u001b[?25hRequirement already satisfied: numpy>=1.18.0 in /usr/local/lib/python3.6/dist-packages (from sktime) (1.18.5)\n",
            "Requirement already satisfied: wheel in /usr/local/lib/python3.6/dist-packages (from sktime) (0.35.1)\n",
            "Requirement already satisfied: pandas>=1.0.0 in /usr/local/lib/python3.6/dist-packages (from sktime) (1.1.4)\n",
            "Collecting statsmodels>=0.12.0\n",
            "\u001b[?25l  Downloading https://files.pythonhosted.org/packages/be/4c/9e2435ca6645d6bafa2b51bb11f0a365b28934a2ffe9d6e339d67130926d/statsmodels-0.12.1-cp36-cp36m-manylinux1_x86_64.whl (9.5MB)\n",
            "\u001b[K     |████████████████████████████████| 9.5MB 36.3MB/s \n",
            "\u001b[?25hRequirement already satisfied: scipy>=0.19.1 in /usr/local/lib/python3.6/dist-packages (from scikit-learn>=0.23.0->sktime) (1.4.1)\n",
            "Collecting threadpoolctl>=2.0.0\n",
            "  Downloading https://files.pythonhosted.org/packages/f7/12/ec3f2e203afa394a149911729357aa48affc59c20e2c1c8297a60f33f133/threadpoolctl-2.1.0-py3-none-any.whl\n",
            "Requirement already satisfied: joblib>=0.11 in /usr/local/lib/python3.6/dist-packages (from scikit-learn>=0.23.0->sktime) (0.17.0)\n",
            "Requirement already satisfied: pytz>=2017.2 in /usr/local/lib/python3.6/dist-packages (from pandas>=1.0.0->sktime) (2018.9)\n",
            "Requirement already satisfied: python-dateutil>=2.7.3 in /usr/local/lib/python3.6/dist-packages (from pandas>=1.0.0->sktime) (2.8.1)\n",
            "Requirement already satisfied: patsy>=0.5 in /usr/local/lib/python3.6/dist-packages (from statsmodels>=0.12.0->sktime) (0.5.1)\n",
            "Requirement already satisfied: six>=1.5 in /usr/local/lib/python3.6/dist-packages (from python-dateutil>=2.7.3->pandas>=1.0.0->sktime) (1.15.0)\n",
            "Installing collected packages: threadpoolctl, scikit-learn, statsmodels, sktime\n",
            "  Found existing installation: scikit-learn 0.22.2.post1\n",
            "    Uninstalling scikit-learn-0.22.2.post1:\n",
            "      Successfully uninstalled scikit-learn-0.22.2.post1\n",
            "  Found existing installation: statsmodels 0.10.2\n",
            "    Uninstalling statsmodels-0.10.2:\n",
            "      Successfully uninstalled statsmodels-0.10.2\n",
            "Successfully installed scikit-learn-0.23.2 sktime-0.4.3 statsmodels-0.12.1 threadpoolctl-2.1.0\n",
            "Requirement already satisfied: sktime[all_extras] in /usr/local/lib/python3.6/dist-packages (0.4.3)\n",
            "Requirement already satisfied: numpy>=1.18.0 in /usr/local/lib/python3.6/dist-packages (from sktime[all_extras]) (1.18.5)\n",
            "Requirement already satisfied: pandas>=1.0.0 in /usr/local/lib/python3.6/dist-packages (from sktime[all_extras]) (1.1.4)\n",
            "Requirement already satisfied: wheel in /usr/local/lib/python3.6/dist-packages (from sktime[all_extras]) (0.35.1)\n",
            "Requirement already satisfied: statsmodels>=0.12.0 in /usr/local/lib/python3.6/dist-packages (from sktime[all_extras]) (0.12.1)\n",
            "Requirement already satisfied: scikit-learn>=0.23.0 in /usr/local/lib/python3.6/dist-packages (from sktime[all_extras]) (0.23.2)\n",
            "Requirement already satisfied: numba<=0.50.*; extra == \"all_extras\" in /usr/local/lib/python3.6/dist-packages (from sktime[all_extras]) (0.48.0)\n",
            "Collecting tsfresh>=0.17.0; extra == \"all_extras\"\n",
            "\u001b[?25l  Downloading https://files.pythonhosted.org/packages/35/b7/cbbfb02d50a93dbb710a730f168711eb343829e1cdea9f0d001d91aeefd6/tsfresh-0.17.0-py2.py3-none-any.whl (91kB)\n",
            "\u001b[K     |████████████████████████████████| 92kB 3.9MB/s \n",
            "\u001b[?25hRequirement already satisfied: seaborn>=0.11.0; extra == \"all_extras\" in /usr/local/lib/python3.6/dist-packages (from sktime[all_extras]) (0.11.0)\n",
            "Requirement already satisfied: cython>=0.29.0; extra == \"all_extras\" in /usr/local/lib/python3.6/dist-packages (from sktime[all_extras]) (0.29.21)\n",
            "Collecting matplotlib>=3.3.2; extra == \"all_extras\"\n",
            "\u001b[?25l  Downloading https://files.pythonhosted.org/packages/d2/43/2bd63467490036697e7be71444fafc7b236923d614d4521979a200c6b559/matplotlib-3.3.3-cp36-cp36m-manylinux1_x86_64.whl (11.6MB)\n",
            "\u001b[K     |████████████████████████████████| 11.6MB 196kB/s \n",
            "\u001b[?25hCollecting pmdarima>=1.7.1; extra == \"all_extras\"\n",
            "\u001b[?25l  Downloading https://files.pythonhosted.org/packages/be/62/725b3b6ae0e56c77534de5a8139322e7b863ca53fd5bd6bd3b7de87d0c20/pmdarima-1.7.1-cp36-cp36m-manylinux1_x86_64.whl (1.5MB)\n",
            "\u001b[K     |████████████████████████████████| 1.5MB 44.3MB/s \n",
            "\u001b[?25hCollecting scikit-posthocs>=0.6.5; extra == \"all_extras\"\n",
            "  Downloading https://files.pythonhosted.org/packages/e8/b3/ab9b240381d6218a3a5e94d11a1552217317d9624988cf279ec527b5f83e/scikit_posthocs-0.6.6-py3-none-any.whl\n",
            "Requirement already satisfied: pytz>=2017.2 in /usr/local/lib/python3.6/dist-packages (from pandas>=1.0.0->sktime[all_extras]) (2018.9)\n",
            "Requirement already satisfied: python-dateutil>=2.7.3 in /usr/local/lib/python3.6/dist-packages (from pandas>=1.0.0->sktime[all_extras]) (2.8.1)\n",
            "Requirement already satisfied: patsy>=0.5 in /usr/local/lib/python3.6/dist-packages (from statsmodels>=0.12.0->sktime[all_extras]) (0.5.1)\n",
            "Requirement already satisfied: scipy>=1.1 in /usr/local/lib/python3.6/dist-packages (from statsmodels>=0.12.0->sktime[all_extras]) (1.4.1)\n",
            "Requirement already satisfied: threadpoolctl>=2.0.0 in /usr/local/lib/python3.6/dist-packages (from scikit-learn>=0.23.0->sktime[all_extras]) (2.1.0)\n",
            "Requirement already satisfied: joblib>=0.11 in /usr/local/lib/python3.6/dist-packages (from scikit-learn>=0.23.0->sktime[all_extras]) (0.17.0)\n",
            "Requirement already satisfied: llvmlite<0.32.0,>=0.31.0dev0 in /usr/local/lib/python3.6/dist-packages (from numba<=0.50.*; extra == \"all_extras\"->sktime[all_extras]) (0.31.0)\n",
            "Requirement already satisfied: setuptools in /usr/local/lib/python3.6/dist-packages (from numba<=0.50.*; extra == \"all_extras\"->sktime[all_extras]) (50.3.2)\n",
            "Requirement already satisfied: requests>=2.9.1 in /usr/local/lib/python3.6/dist-packages (from tsfresh>=0.17.0; extra == \"all_extras\"->sktime[all_extras]) (2.23.0)\n",
            "Requirement already satisfied: tqdm>=4.10.0 in /usr/local/lib/python3.6/dist-packages (from tsfresh>=0.17.0; extra == \"all_extras\"->sktime[all_extras]) (4.41.1)\n",
            "Collecting distributed>=2.11.0\n",
            "\u001b[?25l  Downloading https://files.pythonhosted.org/packages/88/38/d9f0e31c15de18cb124d1ed33cf9c99c84f05f251ff6767e7573c217725b/distributed-2.30.1-py3-none-any.whl (656kB)\n",
            "\u001b[K     |████████████████████████████████| 665kB 31.4MB/s \n",
            "\u001b[?25hRequirement already satisfied: dask[dataframe]>=2.9.0 in /usr/local/lib/python3.6/dist-packages (from tsfresh>=0.17.0; extra == \"all_extras\"->sktime[all_extras]) (2.12.0)\n",
            "Requirement already satisfied: pillow>=6.2.0 in /usr/local/lib/python3.6/dist-packages (from matplotlib>=3.3.2; extra == \"all_extras\"->sktime[all_extras]) (7.0.0)\n",
            "Requirement already satisfied: cycler>=0.10 in /usr/local/lib/python3.6/dist-packages (from matplotlib>=3.3.2; extra == \"all_extras\"->sktime[all_extras]) (0.10.0)\n",
            "Requirement already satisfied: pyparsing!=2.0.4,!=2.1.2,!=2.1.6,>=2.0.3 in /usr/local/lib/python3.6/dist-packages (from matplotlib>=3.3.2; extra == \"all_extras\"->sktime[all_extras]) (2.4.7)\n",
            "Requirement already satisfied: kiwisolver>=1.0.1 in /usr/local/lib/python3.6/dist-packages (from matplotlib>=3.3.2; extra == \"all_extras\"->sktime[all_extras]) (1.3.1)\n",
            "Requirement already satisfied: urllib3 in /usr/local/lib/python3.6/dist-packages (from pmdarima>=1.7.1; extra == \"all_extras\"->sktime[all_extras]) (1.24.3)\n",
            "Requirement already satisfied: six>=1.5 in /usr/local/lib/python3.6/dist-packages (from python-dateutil>=2.7.3->pandas>=1.0.0->sktime[all_extras]) (1.15.0)\n",
            "Requirement already satisfied: chardet<4,>=3.0.2 in /usr/local/lib/python3.6/dist-packages (from requests>=2.9.1->tsfresh>=0.17.0; extra == \"all_extras\"->sktime[all_extras]) (3.0.4)\n",
            "Requirement already satisfied: certifi>=2017.4.17 in /usr/local/lib/python3.6/dist-packages (from requests>=2.9.1->tsfresh>=0.17.0; extra == \"all_extras\"->sktime[all_extras]) (2020.11.8)\n",
            "Requirement already satisfied: idna<3,>=2.5 in /usr/local/lib/python3.6/dist-packages (from requests>=2.9.1->tsfresh>=0.17.0; extra == \"all_extras\"->sktime[all_extras]) (2.10)\n",
            "Requirement already satisfied: tornado>=5; python_version < \"3.8\" in /usr/local/lib/python3.6/dist-packages (from distributed>=2.11.0->tsfresh>=0.17.0; extra == \"all_extras\"->sktime[all_extras]) (5.1.1)\n",
            "Collecting contextvars; python_version < \"3.7\"\n",
            "  Downloading https://files.pythonhosted.org/packages/83/96/55b82d9f13763be9d672622e1b8106c85acb83edd7cc2fa5bc67cd9877e9/contextvars-2.4.tar.gz\n",
            "Requirement already satisfied: sortedcontainers!=2.0.0,!=2.0.1 in /usr/local/lib/python3.6/dist-packages (from distributed>=2.11.0->tsfresh>=0.17.0; extra == \"all_extras\"->sktime[all_extras]) (2.3.0)\n",
            "Requirement already satisfied: toolz>=0.8.2 in /usr/local/lib/python3.6/dist-packages (from distributed>=2.11.0->tsfresh>=0.17.0; extra == \"all_extras\"->sktime[all_extras]) (0.11.1)\n",
            "Requirement already satisfied: msgpack>=0.6.0 in /usr/local/lib/python3.6/dist-packages (from distributed>=2.11.0->tsfresh>=0.17.0; extra == \"all_extras\"->sktime[all_extras]) (1.0.0)\n",
            "Requirement already satisfied: psutil>=5.0 in /usr/local/lib/python3.6/dist-packages (from distributed>=2.11.0->tsfresh>=0.17.0; extra == \"all_extras\"->sktime[all_extras]) (5.4.8)\n",
            "Requirement already satisfied: zict>=0.1.3 in /usr/local/lib/python3.6/dist-packages (from distributed>=2.11.0->tsfresh>=0.17.0; extra == \"all_extras\"->sktime[all_extras]) (2.0.0)\n",
            "Collecting cloudpickle>=1.5.0\n",
            "  Downloading https://files.pythonhosted.org/packages/e7/e3/898487e5dbeb612054cf2e0c188463acb358167fef749c53c8bb8918cea1/cloudpickle-1.6.0-py3-none-any.whl\n",
            "Requirement already satisfied: pyyaml in /usr/local/lib/python3.6/dist-packages (from distributed>=2.11.0->tsfresh>=0.17.0; extra == \"all_extras\"->sktime[all_extras]) (3.13)\n",
            "Requirement already satisfied: click>=6.6 in /usr/local/lib/python3.6/dist-packages (from distributed>=2.11.0->tsfresh>=0.17.0; extra == \"all_extras\"->sktime[all_extras]) (7.1.2)\n",
            "Requirement already satisfied: tblib>=1.6.0 in /usr/local/lib/python3.6/dist-packages (from distributed>=2.11.0->tsfresh>=0.17.0; extra == \"all_extras\"->sktime[all_extras]) (1.7.0)\n",
            "Collecting fsspec>=0.6.0; extra == \"dataframe\"\n",
            "\u001b[?25l  Downloading https://files.pythonhosted.org/packages/a5/8b/1df260f860f17cb08698170153ef7db672c497c1840dcc8613ce26a8a005/fsspec-0.8.4-py3-none-any.whl (91kB)\n",
            "\u001b[K     |████████████████████████████████| 92kB 8.4MB/s \n",
            "\u001b[?25hCollecting partd>=0.3.10; extra == \"dataframe\"\n",
            "  Downloading https://files.pythonhosted.org/packages/44/e1/68dbe731c9c067655bff1eca5b7d40c20ca4b23fd5ec9f3d17e201a6f36b/partd-1.1.0-py3-none-any.whl\n",
            "Collecting immutables>=0.9\n",
            "\u001b[?25l  Downloading https://files.pythonhosted.org/packages/99/e0/ea6fd4697120327d26773b5a84853f897a68e33d3f9376b00a8ff96e4f63/immutables-0.14-cp36-cp36m-manylinux1_x86_64.whl (98kB)\n",
            "\u001b[K     |████████████████████████████████| 102kB 7.1MB/s \n",
            "\u001b[?25hRequirement already satisfied: heapdict in /usr/local/lib/python3.6/dist-packages (from zict>=0.1.3->distributed>=2.11.0->tsfresh>=0.17.0; extra == \"all_extras\"->sktime[all_extras]) (1.0.1)\n",
            "Collecting locket\n",
            "  Downloading https://files.pythonhosted.org/packages/d0/22/3c0f97614e0be8386542facb3a7dcfc2584f7b83608c02333bced641281c/locket-0.2.0.tar.gz\n",
            "Building wheels for collected packages: contextvars, locket\n",
            "  Building wheel for contextvars (setup.py) ... \u001b[?25l\u001b[?25hdone\n",
            "  Created wheel for contextvars: filename=contextvars-2.4-cp36-none-any.whl size=7666 sha256=c7581a07ea9d530e968e7c33f8c5d844cff5a8e1ce4d1112a3c6821116578352\n",
            "  Stored in directory: /root/.cache/pip/wheels/a5/7d/68/1ebae2668bda2228686e3c1cf16f2c2384cea6e9334ad5f6de\n",
            "  Building wheel for locket (setup.py) ... \u001b[?25l\u001b[?25hdone\n",
            "  Created wheel for locket: filename=locket-0.2.0-cp36-none-any.whl size=4040 sha256=3e8d4e23366a714e86b813779ea9b74e96795bfac467fbf27e75321ac13f3a6c\n",
            "  Stored in directory: /root/.cache/pip/wheels/26/1e/e8/4fa236ec931b1a0cdd61578e20d4934d7bf188858723b84698\n",
            "Successfully built contextvars locket\n",
            "\u001b[31mERROR: tensorflow-probability 0.11.0 has requirement cloudpickle==1.3, but you'll have cloudpickle 1.6.0 which is incompatible.\u001b[0m\n",
            "\u001b[31mERROR: albumentations 0.1.12 has requirement imgaug<0.2.7,>=0.2.5, but you'll have imgaug 0.2.9 which is incompatible.\u001b[0m\n",
            "\u001b[31mERROR: pmdarima 1.7.1 has requirement Cython<0.29.18,>=0.29, but you'll have cython 0.29.21 which is incompatible.\u001b[0m\n",
            "\u001b[31mERROR: pmdarima 1.7.1 has requirement setuptools<50.0.0, but you'll have setuptools 50.3.2 which is incompatible.\u001b[0m\n",
            "\u001b[31mERROR: pmdarima 1.7.1 has requirement statsmodels<0.12,>=0.11, but you'll have statsmodels 0.12.1 which is incompatible.\u001b[0m\n",
            "Installing collected packages: immutables, contextvars, cloudpickle, distributed, tsfresh, matplotlib, pmdarima, scikit-posthocs, fsspec, locket, partd\n",
            "  Found existing installation: cloudpickle 1.3.0\n",
            "    Uninstalling cloudpickle-1.3.0:\n",
            "      Successfully uninstalled cloudpickle-1.3.0\n",
            "  Found existing installation: distributed 1.25.3\n",
            "    Uninstalling distributed-1.25.3:\n",
            "      Successfully uninstalled distributed-1.25.3\n",
            "  Found existing installation: matplotlib 3.2.2\n",
            "    Uninstalling matplotlib-3.2.2:\n",
            "      Successfully uninstalled matplotlib-3.2.2\n",
            "Successfully installed cloudpickle-1.6.0 contextvars-2.4 distributed-2.30.1 fsspec-0.8.4 immutables-0.14 locket-0.2.0 matplotlib-3.3.3 partd-1.1.0 pmdarima-1.7.1 scikit-posthocs-0.6.6 tsfresh-0.17.0\n"
          ],
          "name": "stdout"
        },
        {
          "output_type": "display_data",
          "data": {
            "application/vnd.colab-display-data+json": {
              "pip_warning": {
                "packages": [
                  "matplotlib",
                  "mpl_toolkits"
                ]
              }
            }
          },
          "metadata": {
            "tags": []
          }
        }
      ]
    },
    {
      "cell_type": "code",
      "metadata": {
        "id": "B0IGTIPVug0T"
      },
      "source": [
        "from sklearn import metrics\n",
        "from sklearn.model_selection import train_test_split\n",
        "\n",
        "from sktime.classification.shapelet_based import MrSEQLClassifier\n",
        "from sktime.datasets import load_arrow_head, load_basic_motions\n",
        "\n",
        "import time\n",
        "import pandas as pd\n",
        "import numpy as np"
      ],
      "execution_count": null,
      "outputs": []
    },
    {
      "cell_type": "markdown",
      "metadata": {
        "id": "924Pply7N8Mr"
      },
      "source": [
        "## **fNIRS Data**"
      ]
    },
    {
      "cell_type": "code",
      "metadata": {
        "id": "1cA2pd1X0eXS",
        "colab": {
          "base_uri": "https://localhost:8080/"
        },
        "outputId": "95e89258-1a8f-44ca-ee60-f7f14057f3d4"
      },
      "source": [
        "# Loading dataset\n",
        "\n",
        "import pandas as pd\n",
        "import numpy as np\n",
        "\n",
        "namesCol = ['Subject Name', 'Event Name', 'Channel Name', 'Start time', 'End time']\n",
        "\n",
        "for q in range(131):\n",
        "  strVar = 'v' + str(q)\n",
        "  namesCol.append(strVar)\n",
        "\n",
        "# df = pd.read_csv('allch_axcaxwr.csv', header = 0, names = namesCol)\n",
        "df = pd.read_csv('211_AXCPT19_TK_axcaxwr_hb_cs539.csv', header = 0, names = namesCol)\n",
        "# df = pd.read_csv('allch_axcaxwr.csv')\n",
        "df_copy = df.copy()\n",
        "\n",
        "# df_uci = pd.read_csv('train_co2a0000364.rd.000', skiprows = 4, sep = \" \")\n",
        "# df_uci.head()\n",
        "\n",
        "col_name = list(df.columns)\n",
        "trans_df = pd.DataFrame(data = df, columns = col_name)\n",
        "\n",
        "\n",
        "# Getting X and y\n",
        "\n",
        "# map = {\"AX wrong probe response\": 0, \"AX correct probe response\": 1}\n",
        "# trans_df['Event Name'] = trans_df['Event Name'].apply(lambda x: map[x])\n",
        "\n",
        "# Get Y-target -df\n",
        "y = trans_df['Event Name']\n",
        "\n",
        "# Drop target variable and get X-feature- df\n",
        "X = trans_df.drop(['Event Name'], axis = 1)\n",
        "\n",
        "\n",
        "# Train-test Split\n",
        "\n",
        "X_train, X_test, y_train, y_test = train_test_split(X, y, test_size = 0.2)\n",
        "print(X_train.shape, y_train.shape, X_test.shape, y_test.shape)\n",
        "\n",
        "\n",
        "# Label Encoding for X dataset\n",
        "\n",
        "from sklearn import preprocessing\n",
        "\n",
        "\n",
        "# Label Encoding for x dataset - not required\n",
        "\n",
        "cat_cols = ['Subject Name', 'Channel Name']\n",
        "enc = preprocessing.LabelEncoder()\n",
        "\n",
        "for col in cat_cols:\n",
        "  X_train[col] = X_train[col].astype('str')\n",
        "  X_test[col] = X_test[col].astype('str')\n",
        "  X_train[col] = enc.fit_transform(X_train[col])\n",
        "  X_test[col] = enc.transform(X_test[col])"
      ],
      "execution_count": null,
      "outputs": [
        {
          "output_type": "stream",
          "text": [
            "(920, 135) (920,) (920, 135) (920,)\n"
          ],
          "name": "stdout"
        },
        {
          "output_type": "stream",
          "text": [
            "/usr/local/lib/python3.6/dist-packages/ipykernel_launcher.py:53: SettingWithCopyWarning: \n",
            "A value is trying to be set on a copy of a slice from a DataFrame.\n",
            "Try using .loc[row_indexer,col_indexer] = value instead\n",
            "\n",
            "See the caveats in the documentation: https://pandas.pydata.org/pandas-docs/stable/user_guide/indexing.html#returning-a-view-versus-a-copy\n",
            "/usr/local/lib/python3.6/dist-packages/ipykernel_launcher.py:54: SettingWithCopyWarning: \n",
            "A value is trying to be set on a copy of a slice from a DataFrame.\n",
            "Try using .loc[row_indexer,col_indexer] = value instead\n",
            "\n",
            "See the caveats in the documentation: https://pandas.pydata.org/pandas-docs/stable/user_guide/indexing.html#returning-a-view-versus-a-copy\n",
            "/usr/local/lib/python3.6/dist-packages/ipykernel_launcher.py:55: SettingWithCopyWarning: \n",
            "A value is trying to be set on a copy of a slice from a DataFrame.\n",
            "Try using .loc[row_indexer,col_indexer] = value instead\n",
            "\n",
            "See the caveats in the documentation: https://pandas.pydata.org/pandas-docs/stable/user_guide/indexing.html#returning-a-view-versus-a-copy\n",
            "/usr/local/lib/python3.6/dist-packages/ipykernel_launcher.py:56: SettingWithCopyWarning: \n",
            "A value is trying to be set on a copy of a slice from a DataFrame.\n",
            "Try using .loc[row_indexer,col_indexer] = value instead\n",
            "\n",
            "See the caveats in the documentation: https://pandas.pydata.org/pandas-docs/stable/user_guide/indexing.html#returning-a-view-versus-a-copy\n"
          ],
          "name": "stderr"
        }
      ]
    },
    {
      "cell_type": "code",
      "metadata": {
        "id": "zcAv8XnKiVb_"
      },
      "source": [
        "# y.value_counts()\n",
        "# trans_df['Event Name']"
      ],
      "execution_count": null,
      "outputs": []
    },
    {
      "cell_type": "code",
      "metadata": {
        "id": "IEhKfj4rkXQI"
      },
      "source": [
        "# y.value_counts()[0]"
      ],
      "execution_count": null,
      "outputs": []
    },
    {
      "cell_type": "code",
      "metadata": {
        "id": "WAwoDziSifAR"
      },
      "source": [
        "# y.value_counts()[1] / (y.value_counts()[0] + y.value_counts()[1])"
      ],
      "execution_count": null,
      "outputs": []
    },
    {
      "cell_type": "markdown",
      "metadata": {
        "id": "NNuey55BOz8d"
      },
      "source": [
        "## **UCI EEG Big Data**"
      ]
    },
    {
      "cell_type": "code",
      "metadata": {
        "id": "cLKZ05ICMjAL"
      },
      "source": [
        "# # Loading dataset\n",
        "\n",
        "# namesCol = ['subject', 'group', 'condition', 'trial', 'channel']\n",
        "\n",
        "# for q in range(256):\n",
        "#   strVar = 'v' + str(q)\n",
        "#   namesCol.append(strVar)\n",
        "\n",
        "# df_train = pd.read_csv('eeg_train_uci.csv', header = 0, names = namesCol)\n",
        "# df_test = pd.read_csv('eeg_test_uci.csv', header = 0, names = namesCol)\n",
        "\n",
        "# col_name = list(df_train.columns)\n",
        "\n",
        "# trans_df_train = pd.DataFrame(data = df_train, columns = col_name)\n",
        "# trans_df_test = pd.DataFrame(data = df_test, columns = col_name)\n",
        "\n",
        "\n",
        "# # Getting X and y \n",
        "\n",
        "# y_train = trans_df_train['condition']\n",
        "# X_train = trans_df_train.drop(['condition'], axis = 1)\n",
        "\n",
        "# y_test = trans_df_test['condition']\n",
        "# X_test = trans_df_test.drop(['condition'], axis = 1)\n",
        "\n",
        "\n",
        "# # Label Encoding\n",
        "\n",
        "# from sklearn import preprocessing\n",
        "\n",
        "# cat_cols = ['subject', 'group', 'channel']\n",
        "# enc = preprocessing.LabelEncoder()\n",
        "\n",
        "# for col in cat_cols:\n",
        "#   X_train.loc[:, col] = X_train.loc[:, col].astype('str')\n",
        "#   X_test.loc[:, col] = X_test.loc[:, col].astype('str')\n",
        "#   X_train.loc[:, col] = enc.fit_transform(X_train.loc[:, col])\n",
        "#   X_test.loc[:, col] = enc.transform(X_test.loc[:, col])"
      ],
      "execution_count": null,
      "outputs": []
    },
    {
      "cell_type": "markdown",
      "metadata": {
        "id": "efc2g4ZpGsIf"
      },
      "source": [
        "## **UCI EEG Small Data**"
      ]
    },
    {
      "cell_type": "code",
      "metadata": {
        "id": "QR83dCkBGp_1"
      },
      "source": [
        "# # Loading dataset\n",
        "\n",
        "# namesCol = ['subject', 'group', 'condition', 'trial', 'channel']\n",
        "\n",
        "# for q in range(256):\n",
        "#   strVar = 'v' + str(q)\n",
        "#   namesCol.append(strVar)\n",
        "\n",
        "# # df = pd.read_csv('allch_axcaxwr.csv', header = 0, names = namesCol)\n",
        "# df = pd.read_csv('eeg_small_uci.csv', header = 0, names = namesCol)\n",
        "# # df = pd.read_csv('allch_axcaxwr.csv')\n",
        "# df_copy = df.copy()\n",
        "\n",
        "# # df_uci = pd.read_csv('train_co2a0000364.rd.000', skiprows = 4, sep = \" \")\n",
        "# # df_uci.head()\n",
        "\n",
        "# col_name = list(df.columns)\n",
        "# trans_df = pd.DataFrame(data = df, columns = col_name)\n",
        "\n",
        "\n",
        "# # Getting X and y\n",
        "\n",
        "# # map = {\"AX wrong probe response\": 0, \"AX correct probe response\": 1}\n",
        "# # trans_df['Event Name'] = trans_df['Event Name'].apply(lambda x: map[x])\n",
        "\n",
        "# # Get Y-target -df\n",
        "# y = trans_df['condition']\n",
        "\n",
        "# # Drop target variable and get X-feature- df\n",
        "# X = trans_df.drop(['condition'], axis = 1)\n",
        "\n",
        "\n",
        "# # Train-test Split\n",
        "\n",
        "# X_train, X_test, y_train, y_test = train_test_split(X, y, test_size = 0.2)\n",
        "# print(X_train.shape, y_train.shape, X_test.shape, y_test.shape)\n",
        "\n",
        "\n",
        "# # Label Encoding for X dataset\n",
        "\n",
        "# from sklearn import preprocessing\n",
        "\n",
        "\n",
        "# # Label Encoding for x dataset - not required\n",
        "\n",
        "# cat_cols = ['subject', 'group', 'channel']\n",
        "# enc = preprocessing.LabelEncoder()\n",
        "\n",
        "# for col in cat_cols:\n",
        "#   X_train[col] = X_train[col].astype('str')\n",
        "#   X_test[col] = X_test[col].astype('str')\n",
        "#   X_train[col] = enc.fit_transform(X_train[col])\n",
        "#   X_test[col] = enc.transform(X_test[col])"
      ],
      "execution_count": null,
      "outputs": []
    },
    {
      "cell_type": "code",
      "metadata": {
        "id": "AR4LHZECayy0"
      },
      "source": [
        "# # Label Encoding for y dataset: 0 to majority and 1 to minority\n",
        "\n",
        "# y_enc = preprocessing.LabelEncoder()\n",
        "\n",
        "# y_train = y_train.astype('str')\n",
        "# y_test = y_test.astype('str')\n",
        "# y_train = y_enc.fit_transform(y_train)\n",
        "# y_test = y_enc.transform(y_test)"
      ],
      "execution_count": null,
      "outputs": []
    },
    {
      "cell_type": "code",
      "metadata": {
        "id": "2lTbj1gAjcUL"
      },
      "source": [
        "# a = y_test[y_test == 0]\n",
        "# print(a.shape)\n",
        "# print(5311+897)\n",
        "# print(5311/6208.0)"
      ],
      "execution_count": null,
      "outputs": []
    },
    {
      "cell_type": "code",
      "metadata": {
        "id": "uoha3safNK7O"
      },
      "source": [
        "# Conversion to numpy array\n",
        "\n",
        "X_train = X_train.values\n",
        "X_test = X_test.values\n",
        "\n",
        "\n",
        "## Reshaping the feature dataset\n",
        "\n",
        "X_train = X_train.reshape((X_train.shape[0], X_train.shape[1], 1))\n",
        "X_test = X_test.reshape((X_test.shape[0], X_test.shape[1], 1))\n",
        "\n",
        "\n",
        "## Only for UCI EEG dataset\n",
        "\n",
        "y_train = y_train.values\n",
        "y_test = y_test.values\n",
        "# y_train = y_train.reshape((y_train.shape[0], 1, 1))\n",
        "# y_test = y_test.reshape((y_test.shape[0], 1, 1))\n",
        "\n",
        "# a_y = y.values\n",
        "# a_X = X.values\n",
        "\n",
        "# a_yn = a_y.reshape((a_y.shape[0], 1, 1))\n",
        "# a_Xn = a_X.reshape((a_X.shape[0], a_X.shape[1], 1))"
      ],
      "execution_count": null,
      "outputs": []
    },
    {
      "cell_type": "code",
      "metadata": {
        "id": "gCDlEXDnXyks",
        "colab": {
          "base_uri": "https://localhost:8080/",
          "height": 477
        },
        "outputId": "c7b6cc29-de0e-47d9-a0e1-9000a29875c5"
      },
      "source": [
        "# For clf mode, column ensembling is required\n",
        "\n",
        "from sktime.classification.compose import (\n",
        "    ColumnEnsembleClassifier,\n",
        ")\n",
        "\n",
        "clf = ColumnEnsembleClassifier(\n",
        "    estimators=[\n",
        "        (\"MrSEQL\", MrSEQLClassifier(seql_mode='clf'), [0])\n",
        "    ]\n",
        ")\n",
        "\n",
        "# Starting time\n",
        "start = time.time()\n",
        "\n",
        "# Fit training data\n",
        "clf.fit(X_train, y_train)\n",
        "\n",
        "# End time\n",
        "end = time.time()"
      ],
      "execution_count": null,
      "outputs": [
        {
          "output_type": "error",
          "ename": "ValueError",
          "evalue": "ignored",
          "traceback": [
            "\u001b[0;31m---------------------------------------------------------------------------\u001b[0m",
            "\u001b[0;31mValueError\u001b[0m                                Traceback (most recent call last)",
            "\u001b[0;32m<ipython-input-160-5371d945bea4>\u001b[0m in \u001b[0;36m<module>\u001b[0;34m()\u001b[0m\n\u001b[1;32m     15\u001b[0m \u001b[0;34m\u001b[0m\u001b[0m\n\u001b[1;32m     16\u001b[0m \u001b[0;31m# Fit training data\u001b[0m\u001b[0;34m\u001b[0m\u001b[0;34m\u001b[0m\u001b[0;34m\u001b[0m\u001b[0m\n\u001b[0;32m---> 17\u001b[0;31m \u001b[0mclf\u001b[0m\u001b[0;34m.\u001b[0m\u001b[0mfit\u001b[0m\u001b[0;34m(\u001b[0m\u001b[0mX_train\u001b[0m\u001b[0;34m,\u001b[0m \u001b[0my_train\u001b[0m\u001b[0;34m)\u001b[0m\u001b[0;34m\u001b[0m\u001b[0;34m\u001b[0m\u001b[0m\n\u001b[0m\u001b[1;32m     18\u001b[0m \u001b[0;34m\u001b[0m\u001b[0m\n\u001b[1;32m     19\u001b[0m \u001b[0;31m# End time\u001b[0m\u001b[0;34m\u001b[0m\u001b[0;34m\u001b[0m\u001b[0;34m\u001b[0m\u001b[0m\n",
            "\u001b[0;32m/usr/local/lib/python3.6/dist-packages/sktime/classification/compose/_column_ensemble.py\u001b[0m in \u001b[0;36mfit\u001b[0;34m(self, X, y)\u001b[0m\n\u001b[1;32m    157\u001b[0m         \u001b[0;32mfor\u001b[0m \u001b[0mname\u001b[0m\u001b[0;34m,\u001b[0m \u001b[0mestimator\u001b[0m\u001b[0;34m,\u001b[0m \u001b[0mcolumn\u001b[0m \u001b[0;32min\u001b[0m \u001b[0mself\u001b[0m\u001b[0;34m.\u001b[0m\u001b[0m_iter\u001b[0m\u001b[0;34m(\u001b[0m\u001b[0mreplace_strings\u001b[0m\u001b[0;34m=\u001b[0m\u001b[0;32mTrue\u001b[0m\u001b[0;34m)\u001b[0m\u001b[0;34m:\u001b[0m\u001b[0;34m\u001b[0m\u001b[0;34m\u001b[0m\u001b[0m\n\u001b[1;32m    158\u001b[0m             \u001b[0mestimator\u001b[0m \u001b[0;34m=\u001b[0m \u001b[0mclone\u001b[0m\u001b[0;34m(\u001b[0m\u001b[0mestimator\u001b[0m\u001b[0;34m)\u001b[0m\u001b[0;34m\u001b[0m\u001b[0;34m\u001b[0m\u001b[0m\n\u001b[0;32m--> 159\u001b[0;31m             \u001b[0mestimator\u001b[0m\u001b[0;34m.\u001b[0m\u001b[0mfit\u001b[0m\u001b[0;34m(\u001b[0m\u001b[0m_get_column\u001b[0m\u001b[0;34m(\u001b[0m\u001b[0mX\u001b[0m\u001b[0;34m,\u001b[0m \u001b[0mcolumn\u001b[0m\u001b[0;34m)\u001b[0m\u001b[0;34m,\u001b[0m \u001b[0mtransformed_y\u001b[0m\u001b[0;34m)\u001b[0m\u001b[0;34m\u001b[0m\u001b[0;34m\u001b[0m\u001b[0m\n\u001b[0m\u001b[1;32m    160\u001b[0m             \u001b[0mestimators_\u001b[0m\u001b[0;34m.\u001b[0m\u001b[0mappend\u001b[0m\u001b[0;34m(\u001b[0m\u001b[0;34m(\u001b[0m\u001b[0mname\u001b[0m\u001b[0;34m,\u001b[0m \u001b[0mestimator\u001b[0m\u001b[0;34m,\u001b[0m \u001b[0mcolumn\u001b[0m\u001b[0;34m)\u001b[0m\u001b[0;34m)\u001b[0m\u001b[0;34m\u001b[0m\u001b[0;34m\u001b[0m\u001b[0m\n\u001b[1;32m    161\u001b[0m \u001b[0;34m\u001b[0m\u001b[0m\n",
            "\u001b[0;32msktime/classification/shapelet_based/mrseql/mrseql.pyx\u001b[0m in \u001b[0;36msktime.classification.shapelet_based.mrseql.mrseql.MrSEQLClassifier.fit\u001b[0;34m()\u001b[0m\n",
            "\u001b[0;32msktime/classification/shapelet_based/mrseql/mrseql.pyx\u001b[0m in \u001b[0;36msktime.classification.shapelet_based.mrseql.mrseql.MrSEQLClassifier._transform_time_series\u001b[0;34m()\u001b[0m\n",
            "\u001b[0;32msktime/classification/shapelet_based/mrseql/mrseql.pyx\u001b[0m in \u001b[0;36msktime.classification.shapelet_based.mrseql.mrseql.AdaptedSFA.fit\u001b[0;34m()\u001b[0m\n",
            "\u001b[0;32m/usr/local/lib/python3.6/dist-packages/sktime/transformers/series_as_features/dictionary_based/_sfa.py\u001b[0m in \u001b[0;36mfit\u001b[0;34m(self, X, y)\u001b[0m\n\u001b[1;32m    169\u001b[0m \u001b[0;34m\u001b[0m\u001b[0m\n\u001b[1;32m    170\u001b[0m         \u001b[0;32mif\u001b[0m \u001b[0mself\u001b[0m\u001b[0;34m.\u001b[0m\u001b[0mword_length\u001b[0m \u001b[0;34m<\u001b[0m \u001b[0;36m1\u001b[0m \u001b[0;32mor\u001b[0m \u001b[0mself\u001b[0m\u001b[0;34m.\u001b[0m\u001b[0mword_length\u001b[0m \u001b[0;34m>\u001b[0m \u001b[0;36m16\u001b[0m\u001b[0;34m:\u001b[0m\u001b[0;34m\u001b[0m\u001b[0;34m\u001b[0m\u001b[0m\n\u001b[0;32m--> 171\u001b[0;31m             \u001b[0;32mraise\u001b[0m \u001b[0mValueError\u001b[0m\u001b[0;34m(\u001b[0m\u001b[0;34m\"Word length must be an integer between 1 and 16\"\u001b[0m\u001b[0;34m)\u001b[0m\u001b[0;34m\u001b[0m\u001b[0;34m\u001b[0m\u001b[0m\n\u001b[0m\u001b[1;32m    172\u001b[0m \u001b[0;34m\u001b[0m\u001b[0m\n\u001b[1;32m    173\u001b[0m         \u001b[0;32mif\u001b[0m \u001b[0mself\u001b[0m\u001b[0;34m.\u001b[0m\u001b[0mbinning_method\u001b[0m \u001b[0;34m==\u001b[0m \u001b[0;34m\"information-gain\"\u001b[0m \u001b[0;32mand\u001b[0m \u001b[0my\u001b[0m \u001b[0;32mis\u001b[0m \u001b[0;32mNone\u001b[0m\u001b[0;34m:\u001b[0m\u001b[0;34m\u001b[0m\u001b[0;34m\u001b[0m\u001b[0m\n",
            "\u001b[0;31mValueError\u001b[0m: Word length must be an integer between 1 and 16"
          ]
        }
      ]
    },
    {
      "cell_type": "code",
      "metadata": {
        "id": "-pFEjmc6uvv1"
      },
      "source": [
        "# ms = MrSEQLClassifier(seql_mode = \"fs\") # Without conversion to numpy array\n",
        "\n",
        "# use sax by default\n",
        "# ms = MrSEQLClassifier(seql_mode=\"clf\")\n",
        "# use sfa representations\n",
        "# ms = MrSEQLClassifier(seql_mode='fs', symrep=['sfa'])\n",
        "# use sax and sfa representations\n",
        "# ms = MrSEQLClassifier(seql_mode='fs', symrep=['sax', 'sfa'])\n",
        "\n",
        "# # Starting time\n",
        "# start = time.time()\n",
        "\n",
        "# # fit training data\n",
        "# ms.fit(X_train, y_train)\n",
        "\n",
        "# # End time\n",
        "# end = time.time()\n",
        "\n",
        "\n",
        "## Accuracy for UCI data - regression problem\n",
        "\n",
        "# from sklearn.metrics import accuracy_score\n",
        "\n",
        "predicted = clf.predict(X_test)\n",
        "\n",
        "print(\"Accuracy with mr-seql: \", clf.score(X_test, y_test))\n",
        "# print(\"Accuracy with mr-seql: \", accuracy_score(y_test, predicted))\n",
        "\n",
        "## Accuracy for fNIRS data - classification problem\n",
        "# print(\"Accuracy with mr-seql: \", clf.score(X_test, y_test))\n",
        "\n",
        "# Total time taken\n",
        "print(f\"Runtime of the program is {end - start}\")"
      ],
      "execution_count": null,
      "outputs": []
    },
    {
      "cell_type": "code",
      "metadata": {
        "id": "Ms46zhVPi8kR"
      },
      "source": [
        "# # # AUC\n",
        "\n",
        "# from sklearn.metrics import roc_auc_score\n",
        "\n",
        "# # predicted = clf.predict(X_test)\n",
        "# # fpr, tpr, thresholds = metrics.roc_curve(y_test, predicted)\n",
        "# print(\"AUC Curve: \", roc_auc_score(y_test, predicted))"
      ],
      "execution_count": null,
      "outputs": []
    },
    {
      "cell_type": "code",
      "metadata": {
        "id": "roGUOz5SkoGa"
      },
      "source": [
        "# from sklearn.metrics import confusion_matrix\n",
        "\n",
        "# confusion_matrix(y_test, predicted)"
      ],
      "execution_count": null,
      "outputs": []
    },
    {
      "cell_type": "code",
      "metadata": {
        "id": "UpiyTHDKhWP_"
      },
      "source": [
        "# print(\"AUC Curve: \", metrics.auc(fpr, tpr))"
      ],
      "execution_count": null,
      "outputs": []
    },
    {
      "cell_type": "code",
      "metadata": {
        "id": "s2fVAWkWR4fK"
      },
      "source": [
        "# Classification accuracy\n",
        "# print(\"Accuracy with mr-seql: %2.3f\", ms.score(y_test, predicted))\n",
        "# Classification accuracy\n",
        "# print(\"Accuracy with mr-seql: %2.3f\", metrics.accuracy_score(y_test, predicted))"
      ],
      "execution_count": null,
      "outputs": []
    },
    {
      "cell_type": "code",
      "metadata": {
        "id": "XwzkeAH3VBHW"
      },
      "source": [
        "# # For clf mode, column ensembling is required\n",
        "\n",
        "# from sktime.classification.compose import (\n",
        "#     ColumnEnsembleClassifier,\n",
        "#     TimeSeriesForestClassifier,\n",
        "# )\n",
        "\n",
        "# clf = ColumnEnsembleClassifier(\n",
        "#     estimators=[\n",
        "#         (\"MrSEQL\", MrSEQLClassifier(seql_mode = \"clf\"), [0])\n",
        "#     ]\n",
        "# )\n",
        "# clf.fit(X_train, y_train)\n",
        "# clf.score(X_test, y_test)"
      ],
      "execution_count": null,
      "outputs": []
    },
    {
      "cell_type": "code",
      "metadata": {
        "id": "dFVU-un-V-CV"
      },
      "source": [
        "# from sklearn.pipeline import Pipeline\n",
        "# from sktime.transformers.panel.compose import ColumnConcatenator\n",
        "\n",
        "# steps = [\n",
        "#     (\"concatenate\", ColumnConcatenator()),\n",
        "#     (\"MrSEQL\", MrSEQLClassifier(seql_mode = \"clf\")),\n",
        "# ]\n",
        "\n",
        "# clf = Pipeline(steps)\n",
        "# clf.fit(X_train, y_train)\n",
        "# clf.score(X_test, y_test)"
      ],
      "execution_count": null,
      "outputs": []
    },
    {
      "cell_type": "code",
      "metadata": {
        "colab": {
          "base_uri": "https://localhost:8080/",
          "height": 295
        },
        "id": "6R0T7sblRcdP",
        "outputId": "5bf9ca30-b0f3-4326-f022-eb34792eb3d1"
      },
      "source": [
        "# import matplotlib.pyplot as plt\n",
        "\n",
        "# names = ['80-20', '70-30', '60-40', '50-50']\n",
        "# values = [36.19,\t32.11,\t34.63,\t33.80]\n",
        "\n",
        "# plt.plot(names, values)\n",
        "# plt.ylabel('Accuracy')\n",
        "# plt.xlabel('Train-Test Split')\n",
        "# plt.title('UCI EEG Small Dataset')\n",
        "# plt.show()\n",
        "\n",
        "import matplotlib.pyplot as plt\n",
        "# line 1 points\n",
        "x1 = ['80-20', '70-30', '60-40', '50-50']\n",
        "y1 = [36.19,\t32.11,\t34.63,\t33.80]\n",
        "# plotting the line 1 points \n",
        "plt.plot(x1, y1, label = \"UCI EEG Small Data\")\n",
        "# line 2 points\n",
        "x2 = ['80-20', '70-30', '60-40', '50-50']\n",
        "y2 = [54.60,\t51.08,\t50.80,\t54.10]\n",
        "# plotting the line 2 points \n",
        "plt.plot(x2, y2, label = \"fNIRS Data\")\n",
        "plt.xlabel('Train-Test Split')\n",
        "# Set the y axis label of the current axis.\n",
        "plt.ylabel('Accuracy')\n",
        "# Set a title of the current axes.\n",
        "plt.title('Accuracy vs Train-Test Split Results')\n",
        "# show a legend on the plot\n",
        "plt.legend()\n",
        "# Display a figure.\n",
        "plt.show()\n"
      ],
      "execution_count": 4,
      "outputs": [
        {
          "output_type": "display_data",
          "data": {
            "image/png": "[encoded data removed]",
            "text/plain": [
              "<Figure size 432x288 with 1 Axes>"
            ]
          },
          "metadata": {
            "tags": [],
            "needs_background": "light"
          }
        }
      ]
    },
    {
      "cell_type": "code",
      "metadata": {
        "colab": {
          "base_uri": "https://localhost:8080/",
          "height": 295
        },
        "id": "OUvLp6mUejjR",
        "outputId": "22106889-eb19-4c6c-e7c2-4a981ef32ad1"
      },
      "source": [
        "import matplotlib.pyplot as plt\n",
        "# line 1 points\n",
        "x1 = [79, 69, 59, 49]\n",
        "y1 = [0.16, 0.15, 0.12, 0.10]\n",
        "x2 = [81, 71, 61, 51]\n",
        "# x2 = ['80-20', '70-30', '60-40', '50-50']\n",
        "y2 = [0.03, 0.02, 0.02, 0.01]\n",
        "# plotting the line 2 points \n",
        "ax = plt.subplot(111)\n",
        "bar1 = ax.bar(x1, y1, width=2, color='b', align='center')\n",
        "bar2 = ax.bar(x2, y2, width=2, color='r', align='center')\n",
        "plt.xlabel('Train Data')\n",
        "# Set the y axis label of the current axis.\n",
        "plt.ylabel('Efficiency')\n",
        "# Set a title of the current axes.\n",
        "plt.title('Efficiency vs Train-Test Split Results')\n",
        "# show a legend on the plot\n",
        "plt.legend((bar1, bar2),('UCI EEG Small Data', 'fNIRS Data'))\n",
        "# Display a figure.\n",
        "plt.show()"
      ],
      "execution_count": 28,
      "outputs": [
        {
          "output_type": "display_data",
          "data": {
            "image/png": "[encoded data removed]",
            "text/plain": [
              "<Figure size 432x288 with 1 Axes>"
            ]
          },
          "metadata": {
            "tags": [],
            "needs_background": "light"
          }
        }
      ]
    }
  ]
}